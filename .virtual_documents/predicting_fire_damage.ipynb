# Import necessary libraries
import pandas as pd
import numpy as np
import matplotlib.pyplot as plt
import seaborn as sns
%matplotlib inline

from sklearn.model_selection import train_test_split

# Load dataset
fires_df = pd.read_csv('fires.csv')

def quick_profile(df: pd.DataFrame) -> None:
    """
    Generate a quick profile of a pandas DataFrame.
    
    Args:
        df (pd.DataFrame): Input dataset.
    """
    print("DATASET PROFILE")
    print("=" * 60)

    # --- Basic info ---
    print(f"Shape: {df.shape[0]:,} rows × {df.shape[1]} columns")
    print(f"Memory usage: {df.memory_usage(deep=True).sum() / 1024**2:.2f} MB")

    # --- Column types ---
    print("\nColumn Types:")
    print(df.dtypes.value_counts().to_string())

    # --- Numeric summary ---
    numeric_cols = df.select_dtypes(include="number").columns
    if numeric_cols.any():
        print("\nNumeric Columns Summary:")
        display(df[numeric_cols].describe().T.round(2))  # nicer table in Jupyter

        if len(numeric_cols) > 2:
            _plot_correlation_heatmap(df[numeric_cols])

    # --- Categorical summary ---
    categorical_cols = df.select_dtypes(include=["object", "category"]).columns
    if categorical_cols.any():
        print("\nCategorical Columns:")
        for col in categorical_cols:
            unique_count = df[col].nunique(dropna=True)
            print(f"  {col}: {unique_count} unique values")

            value_counts = df[col].value_counts(dropna=False)
            if unique_count <= 20:
                print(f"    Top values: {dict(value_counts.head(5))}")
            else:
                print(f"    Most common: {value_counts.index[0]} ({value_counts.iloc[0]})")

    # --- Missing values ---
    missing = df.isnull().sum()
    if missing.any():
        print("\nMissing Values:")
        missing_df = (
            missing[missing > 0]
            .to_frame("count")
            .assign(percent=lambda x: (x["count"] / len(df) * 100).round(1))
        )
        display(missing_df)

# ---------- Helper Function ----------

def _plot_correlation_heatmap(df_num: pd.DataFrame) -> None:
    """Show a correlation heatmap inline in Jupyter."""
    plt.figure(figsize=(10, 8))
    sns.heatmap(df_num.corr(), annot=True, cmap="coolwarm", center=0)
    plt.title("Correlation Matrix")
    plt.tight_layout()
    plt.show()

display(fires_df.head())
quick_profile(fires_df)





sns.heatmap(fires_df.isnull(), cbar=False, cmap='viridis')
plt.title("Missing Values Heatmap")
plt.show()


fires_df.columns



